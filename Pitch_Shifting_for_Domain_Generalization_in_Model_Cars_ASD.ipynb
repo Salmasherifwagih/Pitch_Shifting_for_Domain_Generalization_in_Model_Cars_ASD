{
  "cells": [
    {
      "cell_type": "code",
      "execution_count": null,
      "metadata": {
        "id": "NJGVz1o2HJfH"
      },
      "outputs": [],
      "source": [
        "from google.colab import drive\n",
        "\n",
        "# Mount Google Drive\n",
        "drive.mount('/content/drive')\n",
        "\n",
        "%cd drive/MyDrive/Colab Notebooks/dcase2023_task2_baseline_ae\n",
        "\n",
        "\n",
        "!pip install -r requirements.txt\n",
        "!pip install librosa\n",
        "!pip install soundfile\n",
        "\n",
        "\n",
        "print(\"Opened drive successfully.\")"
      ]
    },
    {
      "cell_type": "code",
      "source": [
        "!rm -rf \"/content/drive/MyDrive/Colab Notebooks/dcase2023_task2_baseline_ae/results/dev_data/baseline/summarize/DCASE2023T2\"\n",
        "!rm -rf \"/content/drive/MyDrive/Colab Notebooks/dcase2023_task2_baseline_ae/results/dev_data/baseline_MAHALA\"\n",
        "!rm -rf \"/content/drive/MyDrive/Colab Notebooks/dcase2023_task2_baseline_ae/results/dev_data/baseline_MSE\"\n",
        "!rm -rf \"/content/drive/MyDrive/Colab Notebooks/dcase2023_task2_baseline_ae/data/dcase2023t2/dev_data/processed/ToyCar/test\"\n",
        "!rm -rf \"/content/drive/MyDrive/Colab Notebooks/dcase2023_task2_baseline_ae/data/dcase2023t2/dev_data/processed/ToyCar/train\""
      ],
      "metadata": {
        "id": "lHEaN6Gm-BqY"
      },
      "execution_count": null,
      "outputs": []
    },
    {
      "cell_type": "code",
      "execution_count": null,
      "metadata": {
        "id": "h5HjZtqUhoNW"
      },
      "outputs": [],
      "source": [
        "import os\n",
        "import torch\n",
        "import soundfile as sf\n",
        "from concurrent.futures import ThreadPoolExecutor, as_completed\n",
        "\n",
        "def load_audio(audio_path):\n",
        "    y, sr = sf.read(audio_path)\n",
        "    return y, sr\n",
        "\n",
        "def pitch_shift(y, sr, pitch_semitones):\n",
        "    pitch_factor = 2 ** (pitch_semitones / 12.0)\n",
        "    new_length = int(y.shape[0] * pitch_factor)\n",
        "    y_tensor = torch.tensor(y, device='cuda').unsqueeze(0).unsqueeze(0)\n",
        "    y_pitch_shifted = torch.nn.functional.interpolate(y_tensor, size=new_length, mode='linear', align_corners=False).squeeze()\n",
        "    return y_pitch_shifted.cpu().numpy()\n",
        "\n",
        "def time_stretch(y, sr, rate):\n",
        "    y_tensor = torch.tensor(y, device='cuda').unsqueeze(0).unsqueeze(0)\n",
        "    new_length = int(y_tensor.shape[-1] / rate)\n",
        "    y_stretched = torch.nn.functional.interpolate(y_tensor, size=new_length, mode='linear', align_corners=False).squeeze()\n",
        "    return y_stretched.cpu().numpy()\n",
        "\n",
        "def process_audio_file(audio_path, pitch_semitones, stretch_rate, output_directory):\n",
        "    y, sr = load_audio(audio_path)\n",
        "\n",
        "    if pitch_semitones is not None:\n",
        "        y_pitch_shifted = pitch_shift(y, sr, pitch_semitones)\n",
        "        file_name, file_ext = os.path.splitext(os.path.basename(audio_path))\n",
        "        output_file_name = f\"{file_name}_pitch_shifted{file_ext}\"\n",
        "        output_path = os.path.join(output_directory, output_file_name)\n",
        "        sf.write(output_path, y_pitch_shifted, sr)\n",
        "\n",
        "    if stretch_rate is not None:\n",
        "        y_stretched = time_stretch(y, sr, stretch_rate)\n",
        "        file_name, file_ext = os.path.splitext(os.path.basename(audio_path))\n",
        "        output_file_name = f\"{file_name}_time_stretched{file_ext}\"\n",
        "        output_path = os.path.join(output_directory, output_file_name)\n",
        "        sf.write(output_path, y_stretched, sr)\n",
        "\n",
        "    return f\"Processed {os.path.basename(audio_path)}\"\n",
        "\n",
        "def main():\n",
        "    audio_directory = \"/content/drive/MyDrive/Colab Notebooks/dcase2023_task2_baseline_ae/data/dcase2023t2/dev_data/raw/ToyCar/train\"\n",
        "    output_directory = audio_directory\n",
        "\n",
        "    pitch_semitones_list = [2]\n",
        "    stretch_rates = [0.8]\n",
        "\n",
        "    audio_files = [os.path.join(audio_directory, f) for f in os.listdir(audio_directory) if f.endswith(\".wav\")]\n",
        "\n",
        "    batch_size = 10\n",
        "    with ThreadPoolExecutor(max_workers=batch_size) as executor:\n",
        "        futures = []\n",
        "        for audio_file in audio_files:\n",
        "            for pitch_semitones in pitch_semitones_list:\n",
        "                futures.append(executor.submit(process_audio_file, audio_file, pitch_semitones, None, output_directory))\n",
        "            for stretch_rate in stretch_rates:\n",
        "                futures.append(executor.submit(process_audio_file, audio_file, None, stretch_rate, output_directory))\n",
        "\n",
        "        for future in as_completed(futures):\n",
        "            print(future.result())\n",
        "\n",
        "if __name__ == \"__main__\":\n",
        "    main()\n"
      ]
    },
    {
      "cell_type": "code",
      "execution_count": null,
      "metadata": {
        "id": "eO5A5usPOXBR"
      },
      "outputs": [],
      "source": [
        "!bash 01_train_2023t2.sh -d"
      ]
    },
    {
      "cell_type": "code",
      "execution_count": null,
      "metadata": {
        "id": "tpgF4ufMCrT2"
      },
      "outputs": [],
      "source": [
        "!bash 02a_test_2023t2.sh -d"
      ]
    },
    {
      "cell_type": "code",
      "execution_count": null,
      "metadata": {
        "id": "TH0qsT7pNIQ6"
      },
      "outputs": [],
      "source": [
        "!bash 02b_test_2023t2.sh -d"
      ]
    },
    {
      "cell_type": "code",
      "execution_count": null,
      "metadata": {
        "id": "sC5XtyWINJ8r"
      },
      "outputs": [],
      "source": [
        "!bash 03_summarize_results.sh DCASE2023T2 -d"
      ]
    }
  ],
  "metadata": {
    "accelerator": "GPU",
    "colab": {
      "gpuType": "L4",
      "machine_shape": "hm",
      "provenance": []
    },
    "kernelspec": {
      "display_name": "Python 3",
      "name": "python3"
    },
    "language_info": {
      "name": "python"
    }
  },
  "nbformat": 4,
  "nbformat_minor": 0
}